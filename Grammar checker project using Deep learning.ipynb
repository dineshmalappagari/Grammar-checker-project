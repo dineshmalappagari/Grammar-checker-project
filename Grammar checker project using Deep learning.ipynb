{
 "cells": [
  {
   "cell_type": "code",
   "execution_count": 9,
   "id": "a73e70b0",
   "metadata": {},
   "outputs": [
    {
     "name": "stdout",
     "output_type": "stream",
     "text": [
      "Collecting gingerit\n",
      "  Downloading gingerit-0.9.0-py3-none-any.whl (3.4 kB)\n",
      "Collecting cloudscraper<2.0.0,>=1.2.66 (from gingerit)\n",
      "  Downloading cloudscraper-1.2.71-py2.py3-none-any.whl (99 kB)\n",
      "     ---------------------------------------- 0.0/99.7 kB ? eta -:--:--\n",
      "     ---- ----------------------------------- 10.2/99.7 kB ? eta -:--:--\n",
      "     ---- ----------------------------------- 10.2/99.7 kB ? eta -:--:--\n",
      "     ---- ----------------------------------- 10.2/99.7 kB ? eta -:--:--\n",
      "     ----------- -------------------------- 30.7/99.7 kB 146.3 kB/s eta 0:00:01\n",
      "     ----------- -------------------------- 30.7/99.7 kB 146.3 kB/s eta 0:00:01\n",
      "     ----------- -------------------------- 30.7/99.7 kB 146.3 kB/s eta 0:00:01\n",
      "     ----------- -------------------------- 30.7/99.7 kB 146.3 kB/s eta 0:00:01\n",
      "     ----------- -------------------------- 30.7/99.7 kB 146.3 kB/s eta 0:00:01\n",
      "     ----------- -------------------------- 30.7/99.7 kB 146.3 kB/s eta 0:00:01\n",
      "     ----------- -------------------------- 30.7/99.7 kB 146.3 kB/s eta 0:00:01\n",
      "     ----------- -------------------------- 30.7/99.7 kB 146.3 kB/s eta 0:00:01\n",
      "     ----------- -------------------------- 30.7/99.7 kB 146.3 kB/s eta 0:00:01\n",
      "     ---------------- ---------------------- 41.0/99.7 kB 56.3 kB/s eta 0:00:02\n",
      "     ------------------------------- ------ 81.9/99.7 kB 114.7 kB/s eta 0:00:01\n",
      "     -------------------------------------- 99.7/99.7 kB 136.3 kB/s eta 0:00:00\n",
      "Requirement already satisfied: pyparsing>=2.4.7 in c:\\users\\mdine\\anaconda3\\lib\\site-packages (from cloudscraper<2.0.0,>=1.2.66->gingerit) (3.0.9)\n",
      "Requirement already satisfied: requests>=2.9.2 in c:\\users\\mdine\\anaconda3\\lib\\site-packages (from cloudscraper<2.0.0,>=1.2.66->gingerit) (2.31.0)\n",
      "Collecting requests-toolbelt>=0.9.1 (from cloudscraper<2.0.0,>=1.2.66->gingerit)\n",
      "  Downloading requests_toolbelt-1.0.0-py2.py3-none-any.whl (54 kB)\n",
      "     ---------------------------------------- 0.0/54.5 kB ? eta -:--:--\n",
      "     ---------------------------------------- 0.0/54.5 kB ? eta -:--:--\n",
      "     ------- -------------------------------- 10.2/54.5 kB ? eta -:--:--\n",
      "     ------- -------------------------------- 10.2/54.5 kB ? eta -:--:--\n",
      "     ------- -------------------------------- 10.2/54.5 kB ? eta -:--:--\n",
      "     --------------------- ---------------- 30.7/54.5 kB 186.2 kB/s eta 0:00:01\n",
      "     --------------------- ---------------- 30.7/54.5 kB 186.2 kB/s eta 0:00:01\n",
      "     --------------------- ---------------- 30.7/54.5 kB 186.2 kB/s eta 0:00:01\n",
      "     ---------------------------- --------- 41.0/54.5 kB 122.9 kB/s eta 0:00:01\n",
      "     -------------------------------------- 54.5/54.5 kB 134.9 kB/s eta 0:00:00\n",
      "Requirement already satisfied: charset-normalizer<4,>=2 in c:\\users\\mdine\\anaconda3\\lib\\site-packages (from requests>=2.9.2->cloudscraper<2.0.0,>=1.2.66->gingerit) (2.0.4)\n",
      "Requirement already satisfied: idna<4,>=2.5 in c:\\users\\mdine\\anaconda3\\lib\\site-packages (from requests>=2.9.2->cloudscraper<2.0.0,>=1.2.66->gingerit) (3.4)\n",
      "Requirement already satisfied: urllib3<3,>=1.21.1 in c:\\users\\mdine\\anaconda3\\lib\\site-packages (from requests>=2.9.2->cloudscraper<2.0.0,>=1.2.66->gingerit) (1.26.14)\n",
      "Requirement already satisfied: certifi>=2017.4.17 in c:\\users\\mdine\\anaconda3\\lib\\site-packages (from requests>=2.9.2->cloudscraper<2.0.0,>=1.2.66->gingerit) (2022.12.7)\n",
      "Installing collected packages: requests-toolbelt, cloudscraper, gingerit\n",
      "Successfully installed cloudscraper-1.2.71 gingerit-0.9.0 requests-toolbelt-1.0.0\n",
      "Note: you may need to restart the kernel to use updated packages.\n"
     ]
    }
   ],
   "source": [
    "pip install gingerit\n"
   ]
  },
  {
   "cell_type": "code",
   "execution_count": 10,
   "id": "54940681",
   "metadata": {},
   "outputs": [],
   "source": [
    "from gingerit.gingerit import GingerIt\n",
    "\n",
    "def correct_sentence(sentence):\n",
    "    parser = GingerIt()\n",
    "    result = parser.parse(sentence)\n",
    "    corrected_sentence = result['result']\n",
    "    return corrected_sentence\n"
   ]
  },
  {
   "cell_type": "code",
   "execution_count": 15,
   "id": "a27b6684",
   "metadata": {},
   "outputs": [
    {
     "name": "stdout",
     "output_type": "stream",
     "text": [
      "Original Sentence: my name am dinesh.\n",
      "Corrected Sentence: My name is Dinesh.\n"
     ]
    }
   ],
   "source": [
    "input_sentence = \"my name am dinesh.\"\n",
    "corrected_sentence = correct_sentence(input_sentence)\n",
    "print(\"Original Sentence:\", input_sentence)\n",
    "print(\"Corrected Sentence:\", corrected_sentence)\n"
   ]
  },
  {
   "cell_type": "markdown",
   "id": "0dac8398",
   "metadata": {},
   "source": [
    "In the example we worked on, we used the gingerit library, which is not based on deep learning. gingerit is a rule-based grammar and spelling correction library. It utilizes handcrafted rules and heuristics to identify and correct grammar and spelling errors in the text."
   ]
  },
  {
   "cell_type": "markdown",
   "id": "e2d7a800",
   "metadata": {},
   "source": [
    "# i will build grammer checker using ML"
   ]
  },
  {
   "cell_type": "markdown",
   "id": "8497b814",
   "metadata": {},
   "source": [
    "## import libraries"
   ]
  },
  {
   "cell_type": "code",
   "execution_count": 16,
   "id": "b6de3ad7",
   "metadata": {},
   "outputs": [],
   "source": [
    "import pandas as pd\n",
    "import re                                                       # Importing regular expression\n",
    "import nltk                                                     # Importing Natural language tool kit\n",
    "from sklearn.feature_extraction.text import CountVectorizer     # Import count vectorization\n",
    "from sklearn.model_selection import train_test_split           # perform train test split \n",
    "from sklearn.naive_bayes import MultinomialNB,                 #we are working on Navie Bayes algorithm\n",
    "from sklearn.metrics import accuracy_score                    # find the accuracy"
   ]
  },
  {
   "cell_type": "markdown",
   "id": "50ac150f",
   "metadata": {},
   "source": [
    "### i will take same data"
   ]
  },
  {
   "cell_type": "code",
   "execution_count": 17,
   "id": "b6e32e4b",
   "metadata": {},
   "outputs": [],
   "source": [
    "# Sample dataset\n",
    "data = {\n",
    "    'sentence': [\n",
    "        \"He goes to schools.\",\n",
    "        \"She don't like apples.\",\n",
    "        \"The cat sat on the mat.\",\n",
    "        \"They is playing soccer.\",\n",
    "        \"I am happy.\"\n",
    "    ],\n",
    "    'is_correct': [0, 0, 1, 0, 1]  # 0 represents incorrect grammar, 1 represents correct grammar\n",
    "}"
   ]
  },
  {
   "cell_type": "markdown",
   "id": "f5f5e142",
   "metadata": {},
   "source": [
    "### converting to pandas "
   ]
  },
  {
   "cell_type": "code",
   "execution_count": 18,
   "id": "6fa5eb87",
   "metadata": {},
   "outputs": [],
   "source": [
    "df = pd.DataFrame(data)\n",
    "\n",
    "def preprocess_text(sentence):\n",
    "    # Convert to lowercase and remove special characters\n",
    "    sentence = sentence.lower()\n",
    "    sentence = re.sub(r'[^a-zA-Z0-9\\s]', '', sentence)\n",
    "    return sentence\n"
   ]
  },
  {
   "cell_type": "code",
   "execution_count": 19,
   "id": "e940aae1",
   "metadata": {},
   "outputs": [
    {
     "data": {
      "text/html": [
       "<div>\n",
       "<style scoped>\n",
       "    .dataframe tbody tr th:only-of-type {\n",
       "        vertical-align: middle;\n",
       "    }\n",
       "\n",
       "    .dataframe tbody tr th {\n",
       "        vertical-align: top;\n",
       "    }\n",
       "\n",
       "    .dataframe thead th {\n",
       "        text-align: right;\n",
       "    }\n",
       "</style>\n",
       "<table border=\"1\" class=\"dataframe\">\n",
       "  <thead>\n",
       "    <tr style=\"text-align: right;\">\n",
       "      <th></th>\n",
       "      <th>sentence</th>\n",
       "      <th>is_correct</th>\n",
       "    </tr>\n",
       "  </thead>\n",
       "  <tbody>\n",
       "    <tr>\n",
       "      <th>0</th>\n",
       "      <td>He goes to schools.</td>\n",
       "      <td>0</td>\n",
       "    </tr>\n",
       "    <tr>\n",
       "      <th>1</th>\n",
       "      <td>She don't like apples.</td>\n",
       "      <td>0</td>\n",
       "    </tr>\n",
       "    <tr>\n",
       "      <th>2</th>\n",
       "      <td>The cat sat on the mat.</td>\n",
       "      <td>1</td>\n",
       "    </tr>\n",
       "    <tr>\n",
       "      <th>3</th>\n",
       "      <td>They is playing soccer.</td>\n",
       "      <td>0</td>\n",
       "    </tr>\n",
       "    <tr>\n",
       "      <th>4</th>\n",
       "      <td>I am happy.</td>\n",
       "      <td>1</td>\n",
       "    </tr>\n",
       "  </tbody>\n",
       "</table>\n",
       "</div>"
      ],
      "text/plain": [
       "                  sentence  is_correct\n",
       "0      He goes to schools.           0\n",
       "1   She don't like apples.           0\n",
       "2  The cat sat on the mat.           1\n",
       "3  They is playing soccer.           0\n",
       "4              I am happy.           1"
      ]
     },
     "execution_count": 19,
     "metadata": {},
     "output_type": "execute_result"
    }
   ],
   "source": [
    "df"
   ]
  },
  {
   "cell_type": "code",
   "execution_count": 20,
   "id": "21c3e1ee",
   "metadata": {},
   "outputs": [],
   "source": [
    "# Preprocess the sentences\n",
    "df['processed_sentence'] = df['sentence'].apply(preprocess_text)"
   ]
  },
  {
   "cell_type": "markdown",
   "id": "27038c63",
   "metadata": {},
   "source": [
    "### split the data X,y"
   ]
  },
  {
   "cell_type": "code",
   "execution_count": 21,
   "id": "9f01e90d",
   "metadata": {},
   "outputs": [],
   "source": [
    "# Split the data into training and testing sets\n",
    "X = df['processed_sentence']\n",
    "y = df['is_correct']\n",
    "X_train, X_test, y_train, y_test = train_test_split(X, y, test_size=0.2, random_state=42)"
   ]
  },
  {
   "cell_type": "code",
   "execution_count": 22,
   "id": "def3eb9a",
   "metadata": {},
   "outputs": [],
   "source": [
    "# Vectorize the features using CountVectorizer\n",
    "vectorizer = CountVectorizer()\n",
    "X_train_vectorized = vectorizer.fit_transform(X_train)\n",
    "X_test_vectorized = vectorizer.transform(X_test)"
   ]
  },
  {
   "cell_type": "markdown",
   "id": "a8f683f1",
   "metadata": {},
   "source": [
    "Import the CountVectorizer class from sklearn.feature_extraction.text. The CountVectorizer is a feature extraction technique in scikit-learn that converts a collection of text documents (sentences in this case) into a numerical matrix representing the frequency of words in each document."
   ]
  },
  {
   "cell_type": "code",
   "execution_count": 23,
   "id": "dd11c18d",
   "metadata": {},
   "outputs": [
    {
     "data": {
      "text/html": [
       "<style>#sk-container-id-1 {color: black;background-color: white;}#sk-container-id-1 pre{padding: 0;}#sk-container-id-1 div.sk-toggleable {background-color: white;}#sk-container-id-1 label.sk-toggleable__label {cursor: pointer;display: block;width: 100%;margin-bottom: 0;padding: 0.3em;box-sizing: border-box;text-align: center;}#sk-container-id-1 label.sk-toggleable__label-arrow:before {content: \"▸\";float: left;margin-right: 0.25em;color: #696969;}#sk-container-id-1 label.sk-toggleable__label-arrow:hover:before {color: black;}#sk-container-id-1 div.sk-estimator:hover label.sk-toggleable__label-arrow:before {color: black;}#sk-container-id-1 div.sk-toggleable__content {max-height: 0;max-width: 0;overflow: hidden;text-align: left;background-color: #f0f8ff;}#sk-container-id-1 div.sk-toggleable__content pre {margin: 0.2em;color: black;border-radius: 0.25em;background-color: #f0f8ff;}#sk-container-id-1 input.sk-toggleable__control:checked~div.sk-toggleable__content {max-height: 200px;max-width: 100%;overflow: auto;}#sk-container-id-1 input.sk-toggleable__control:checked~label.sk-toggleable__label-arrow:before {content: \"▾\";}#sk-container-id-1 div.sk-estimator input.sk-toggleable__control:checked~label.sk-toggleable__label {background-color: #d4ebff;}#sk-container-id-1 div.sk-label input.sk-toggleable__control:checked~label.sk-toggleable__label {background-color: #d4ebff;}#sk-container-id-1 input.sk-hidden--visually {border: 0;clip: rect(1px 1px 1px 1px);clip: rect(1px, 1px, 1px, 1px);height: 1px;margin: -1px;overflow: hidden;padding: 0;position: absolute;width: 1px;}#sk-container-id-1 div.sk-estimator {font-family: monospace;background-color: #f0f8ff;border: 1px dotted black;border-radius: 0.25em;box-sizing: border-box;margin-bottom: 0.5em;}#sk-container-id-1 div.sk-estimator:hover {background-color: #d4ebff;}#sk-container-id-1 div.sk-parallel-item::after {content: \"\";width: 100%;border-bottom: 1px solid gray;flex-grow: 1;}#sk-container-id-1 div.sk-label:hover label.sk-toggleable__label {background-color: #d4ebff;}#sk-container-id-1 div.sk-serial::before {content: \"\";position: absolute;border-left: 1px solid gray;box-sizing: border-box;top: 0;bottom: 0;left: 50%;z-index: 0;}#sk-container-id-1 div.sk-serial {display: flex;flex-direction: column;align-items: center;background-color: white;padding-right: 0.2em;padding-left: 0.2em;position: relative;}#sk-container-id-1 div.sk-item {position: relative;z-index: 1;}#sk-container-id-1 div.sk-parallel {display: flex;align-items: stretch;justify-content: center;background-color: white;position: relative;}#sk-container-id-1 div.sk-item::before, #sk-container-id-1 div.sk-parallel-item::before {content: \"\";position: absolute;border-left: 1px solid gray;box-sizing: border-box;top: 0;bottom: 0;left: 50%;z-index: -1;}#sk-container-id-1 div.sk-parallel-item {display: flex;flex-direction: column;z-index: 1;position: relative;background-color: white;}#sk-container-id-1 div.sk-parallel-item:first-child::after {align-self: flex-end;width: 50%;}#sk-container-id-1 div.sk-parallel-item:last-child::after {align-self: flex-start;width: 50%;}#sk-container-id-1 div.sk-parallel-item:only-child::after {width: 0;}#sk-container-id-1 div.sk-dashed-wrapped {border: 1px dashed gray;margin: 0 0.4em 0.5em 0.4em;box-sizing: border-box;padding-bottom: 0.4em;background-color: white;}#sk-container-id-1 div.sk-label label {font-family: monospace;font-weight: bold;display: inline-block;line-height: 1.2em;}#sk-container-id-1 div.sk-label-container {text-align: center;}#sk-container-id-1 div.sk-container {/* jupyter's `normalize.less` sets `[hidden] { display: none; }` but bootstrap.min.css set `[hidden] { display: none !important; }` so we also need the `!important` here to be able to override the default hidden behavior on the sphinx rendered scikit-learn.org. See: https://github.com/scikit-learn/scikit-learn/issues/21755 */display: inline-block !important;position: relative;}#sk-container-id-1 div.sk-text-repr-fallback {display: none;}</style><div id=\"sk-container-id-1\" class=\"sk-top-container\"><div class=\"sk-text-repr-fallback\"><pre>MultinomialNB()</pre><b>In a Jupyter environment, please rerun this cell to show the HTML representation or trust the notebook. <br />On GitHub, the HTML representation is unable to render, please try loading this page with nbviewer.org.</b></div><div class=\"sk-container\" hidden><div class=\"sk-item\"><div class=\"sk-estimator sk-toggleable\"><input class=\"sk-toggleable__control sk-hidden--visually\" id=\"sk-estimator-id-1\" type=\"checkbox\" checked><label for=\"sk-estimator-id-1\" class=\"sk-toggleable__label sk-toggleable__label-arrow\">MultinomialNB</label><div class=\"sk-toggleable__content\"><pre>MultinomialNB()</pre></div></div></div></div></div>"
      ],
      "text/plain": [
       "MultinomialNB()"
      ]
     },
     "execution_count": 23,
     "metadata": {},
     "output_type": "execute_result"
    }
   ],
   "source": [
    "# Train a Naive Bayes classifier\n",
    "clf = MultinomialNB()\n",
    "clf.fit(X_train_vectorized, y_train)"
   ]
  },
  {
   "cell_type": "code",
   "execution_count": 24,
   "id": "43ba1f78",
   "metadata": {},
   "outputs": [],
   "source": [
    "# Predict on the test set\n",
    "y_pred = clf.predict(X_test_vectorized)"
   ]
  },
  {
   "cell_type": "code",
   "execution_count": 27,
   "id": "e577bc48",
   "metadata": {},
   "outputs": [
    {
     "name": "stdout",
     "output_type": "stream",
     "text": [
      "Accuracy: 100.0\n"
     ]
    }
   ],
   "source": [
    "# Evaluate the model\n",
    "accuracy = accuracy_score(y_test, y_pred)\n",
    "print(\"Accuracy:\", accuracy*100)\n"
   ]
  },
  {
   "cell_type": "code",
   "execution_count": null,
   "id": "c749bb81",
   "metadata": {},
   "outputs": [],
   "source": [
    "Conclusion:\n",
    "            i got 100% accuracy."
   ]
  },
  {
   "cell_type": "code",
   "execution_count": null,
   "id": "fffccb44",
   "metadata": {},
   "outputs": [],
   "source": []
  },
  {
   "cell_type": "code",
   "execution_count": null,
   "id": "68225fee",
   "metadata": {},
   "outputs": [],
   "source": []
  }
 ],
 "metadata": {
  "kernelspec": {
   "display_name": "Python 3 (ipykernel)",
   "language": "python",
   "name": "python3"
  },
  "language_info": {
   "codemirror_mode": {
    "name": "ipython",
    "version": 3
   },
   "file_extension": ".py",
   "mimetype": "text/x-python",
   "name": "python",
   "nbconvert_exporter": "python",
   "pygments_lexer": "ipython3",
   "version": "3.10.9"
  }
 },
 "nbformat": 4,
 "nbformat_minor": 5
}
